{
 "cells": [
  {
   "cell_type": "markdown",
   "id": "a3c8d235",
   "metadata": {},
   "source": [
    "<h1>Enhancing Communication Through Advanced Text Message Classification</h1>\n"
   ]
  },
  {
   "cell_type": "markdown",
   "id": "959a46b1",
   "metadata": {},
   "source": [
    "In this text classification project, we aim to develop a robust machine learning model for the automated classification of SMS messages as either \"ham\" (non-spam) or \"spam.\" Leveraging a dataset sourced from a well-known repository, we embark on the task of preprocessing the text data, vectorizing it using the TF-IDF technique, and subsequently training and evaluating a Random Forest classifier. With the ever-increasing volume of text messages and the persistent challenge of distinguishing legitimate messages from unsolicited spam, this project's objective is to provide an effective solution that can aid in filtering and identifying potentially harmful or irrelevant content, ultimately enhancing the user experience and security in text communication. Through rigorous model selection, training, and evaluation, we seek to achieve a high degree of accuracy in classifying SMS messages, thereby contributing to the ongoing efforts in the field of natural language processing and text analytics."
   ]
  },
  {
   "cell_type": "code",
   "execution_count": 2,
   "id": "3cd4914d",
   "metadata": {},
   "outputs": [],
   "source": [
    "# Import necessary libraries\n",
    "import pandas as pd\n",
    "from sklearn.feature_extraction.text import TfidfVectorizer\n",
    "from sklearn.model_selection import train_test_split\n",
    "from sklearn.preprocessing import LabelEncoder\n",
    "from sklearn.linear_model import LogisticRegression\n",
    "from sklearn.metrics import accuracy_score, classification_report\n",
    "\n"
   ]
  },
  {
   "cell_type": "code",
   "execution_count": 3,
   "id": "9b5f1e6d",
   "metadata": {},
   "outputs": [
    {
     "data": {
      "text/html": [
       "<div>\n",
       "<style scoped>\n",
       "    .dataframe tbody tr th:only-of-type {\n",
       "        vertical-align: middle;\n",
       "    }\n",
       "\n",
       "    .dataframe tbody tr th {\n",
       "        vertical-align: top;\n",
       "    }\n",
       "\n",
       "    .dataframe thead th {\n",
       "        text-align: right;\n",
       "    }\n",
       "</style>\n",
       "<table border=\"1\" class=\"dataframe\">\n",
       "  <thead>\n",
       "    <tr style=\"text-align: right;\">\n",
       "      <th></th>\n",
       "      <th>v1</th>\n",
       "      <th>v2</th>\n",
       "      <th>Unnamed: 2</th>\n",
       "      <th>Unnamed: 3</th>\n",
       "      <th>Unnamed: 4</th>\n",
       "    </tr>\n",
       "  </thead>\n",
       "  <tbody>\n",
       "    <tr>\n",
       "      <th>0</th>\n",
       "      <td>ham</td>\n",
       "      <td>Go until jurong point, crazy.. Available only ...</td>\n",
       "      <td>NaN</td>\n",
       "      <td>NaN</td>\n",
       "      <td>NaN</td>\n",
       "    </tr>\n",
       "    <tr>\n",
       "      <th>1</th>\n",
       "      <td>ham</td>\n",
       "      <td>Ok lar... Joking wif u oni...</td>\n",
       "      <td>NaN</td>\n",
       "      <td>NaN</td>\n",
       "      <td>NaN</td>\n",
       "    </tr>\n",
       "    <tr>\n",
       "      <th>2</th>\n",
       "      <td>spam</td>\n",
       "      <td>Free entry in 2 a wkly comp to win FA Cup fina...</td>\n",
       "      <td>NaN</td>\n",
       "      <td>NaN</td>\n",
       "      <td>NaN</td>\n",
       "    </tr>\n",
       "    <tr>\n",
       "      <th>3</th>\n",
       "      <td>ham</td>\n",
       "      <td>U dun say so early hor... U c already then say...</td>\n",
       "      <td>NaN</td>\n",
       "      <td>NaN</td>\n",
       "      <td>NaN</td>\n",
       "    </tr>\n",
       "    <tr>\n",
       "      <th>4</th>\n",
       "      <td>ham</td>\n",
       "      <td>Nah I don't think he goes to usf, he lives aro...</td>\n",
       "      <td>NaN</td>\n",
       "      <td>NaN</td>\n",
       "      <td>NaN</td>\n",
       "    </tr>\n",
       "    <tr>\n",
       "      <th>...</th>\n",
       "      <td>...</td>\n",
       "      <td>...</td>\n",
       "      <td>...</td>\n",
       "      <td>...</td>\n",
       "      <td>...</td>\n",
       "    </tr>\n",
       "    <tr>\n",
       "      <th>5567</th>\n",
       "      <td>spam</td>\n",
       "      <td>This is the 2nd time we have tried 2 contact u...</td>\n",
       "      <td>NaN</td>\n",
       "      <td>NaN</td>\n",
       "      <td>NaN</td>\n",
       "    </tr>\n",
       "    <tr>\n",
       "      <th>5568</th>\n",
       "      <td>ham</td>\n",
       "      <td>Will Ì_ b going to esplanade fr home?</td>\n",
       "      <td>NaN</td>\n",
       "      <td>NaN</td>\n",
       "      <td>NaN</td>\n",
       "    </tr>\n",
       "    <tr>\n",
       "      <th>5569</th>\n",
       "      <td>ham</td>\n",
       "      <td>Pity, * was in mood for that. So...any other s...</td>\n",
       "      <td>NaN</td>\n",
       "      <td>NaN</td>\n",
       "      <td>NaN</td>\n",
       "    </tr>\n",
       "    <tr>\n",
       "      <th>5570</th>\n",
       "      <td>ham</td>\n",
       "      <td>The guy did some bitching but I acted like i'd...</td>\n",
       "      <td>NaN</td>\n",
       "      <td>NaN</td>\n",
       "      <td>NaN</td>\n",
       "    </tr>\n",
       "    <tr>\n",
       "      <th>5571</th>\n",
       "      <td>ham</td>\n",
       "      <td>Rofl. Its true to its name</td>\n",
       "      <td>NaN</td>\n",
       "      <td>NaN</td>\n",
       "      <td>NaN</td>\n",
       "    </tr>\n",
       "  </tbody>\n",
       "</table>\n",
       "<p>5572 rows × 5 columns</p>\n",
       "</div>"
      ],
      "text/plain": [
       "        v1                                                 v2 Unnamed: 2  \\\n",
       "0      ham  Go until jurong point, crazy.. Available only ...        NaN   \n",
       "1      ham                      Ok lar... Joking wif u oni...        NaN   \n",
       "2     spam  Free entry in 2 a wkly comp to win FA Cup fina...        NaN   \n",
       "3      ham  U dun say so early hor... U c already then say...        NaN   \n",
       "4      ham  Nah I don't think he goes to usf, he lives aro...        NaN   \n",
       "...    ...                                                ...        ...   \n",
       "5567  spam  This is the 2nd time we have tried 2 contact u...        NaN   \n",
       "5568   ham              Will Ì_ b going to esplanade fr home?        NaN   \n",
       "5569   ham  Pity, * was in mood for that. So...any other s...        NaN   \n",
       "5570   ham  The guy did some bitching but I acted like i'd...        NaN   \n",
       "5571   ham                         Rofl. Its true to its name        NaN   \n",
       "\n",
       "     Unnamed: 3 Unnamed: 4  \n",
       "0           NaN        NaN  \n",
       "1           NaN        NaN  \n",
       "2           NaN        NaN  \n",
       "3           NaN        NaN  \n",
       "4           NaN        NaN  \n",
       "...         ...        ...  \n",
       "5567        NaN        NaN  \n",
       "5568        NaN        NaN  \n",
       "5569        NaN        NaN  \n",
       "5570        NaN        NaN  \n",
       "5571        NaN        NaN  \n",
       "\n",
       "[5572 rows x 5 columns]"
      ]
     },
     "execution_count": 3,
     "metadata": {},
     "output_type": "execute_result"
    }
   ],
   "source": [
    "# Step 1: Load the dataset\n",
    "data = pd.read_csv('spam.csv', encoding='ISO-8859-1')\n",
    "data"
   ]
  },
  {
   "cell_type": "code",
   "execution_count": 3,
   "id": "fb860a28",
   "metadata": {},
   "outputs": [],
   "source": [
    "# Step 2: Data Preprocessing\n",
    "# Encode labels using Label Encoding\n",
    "label_encoder = LabelEncoder()\n",
    "data['v1'] = label_encoder.fit_transform(data['v1'])\n",
    "\n",
    "# TF-IDF Vectorization for text data\n",
    "tfidf_vectorizer = TfidfVectorizer(max_features=5000)  # You can adjust max_features as needed\n",
    "X = tfidf_vectorizer.fit_transform(data['v2'])\n"
   ]
  },
  {
   "cell_type": "markdown",
   "id": "ca748b0f",
   "metadata": {},
   "source": [
    "## Logistic Regression"
   ]
  },
  {
   "cell_type": "code",
   "execution_count": 4,
   "id": "93e3c156",
   "metadata": {},
   "outputs": [
    {
     "name": "stdout",
     "output_type": "stream",
     "text": [
      "Accuracy: 0.9632286995515695\n",
      "Classification Report:\n",
      "              precision    recall  f1-score   support\n",
      "\n",
      "         ham       0.96      1.00      0.98       965\n",
      "        spam       1.00      0.73      0.84       150\n",
      "\n",
      "    accuracy                           0.96      1115\n",
      "   macro avg       0.98      0.86      0.91      1115\n",
      "weighted avg       0.96      0.96      0.96      1115\n",
      "\n"
     ]
    }
   ],
   "source": [
    "# Step 3: Split data into training and testing sets\n",
    "X_train, X_test, y_train, y_test = train_test_split(X, data['v1'], test_size=0.2, random_state=42)\n",
    "\n",
    "# Step 4: Model Selection (Logistic Regression)\n",
    "model = LogisticRegression()\n",
    "\n",
    "# Step 5: Model Training\n",
    "model.fit(X_train, y_train)\n",
    "\n",
    "# Step 6: Model Evaluation\n",
    "y_pred = model.predict(X_test)\n",
    "\n",
    "# Calculate accuracy\n",
    "accuracy = accuracy_score(y_test, y_pred)\n",
    "print(\"Accuracy:\", accuracy)\n",
    "\n",
    "# Generate classification report\n",
    "class_report = classification_report(y_test, y_pred, target_names=[\"ham\", \"spam\"])\n",
    "print(\"Classification Report:\")\n",
    "print(class_report)"
   ]
  },
  {
   "cell_type": "markdown",
   "id": "07f75652",
   "metadata": {},
   "source": [
    "The figures presented here encapsulate the performance evaluation of our Random Forest classifier in the context of SMS message classification. The Confusion Matrix visually depicts the model's ability to correctly classify messages into \"ham\" (non-spam) or \"spam\" categories, with annotations providing insights into true positives, true negatives, false positives, and false negatives. This matrix serves as a valuable tool for assessing the classifier's precision and recall. On the other hand, the Receiver Operating Characteristic (ROC) curve illustrates the trade-off between the true positive rate and false positive rate across varying probability thresholds. The area under the ROC curve (AUC) quantifies the model's discriminatory power, with a higher AUC indicating superior performance. These visualizations collectively offer a comprehensive view of our classifier's effectiveness in distinguishing between legitimate and spam SMS messages, aiding in its evaluation and further refinement."
   ]
  },
  {
   "cell_type": "code",
   "execution_count": 5,
   "id": "dcc147e3",
   "metadata": {
    "scrolled": false
   },
   "outputs": [
    {
     "data": {
      "image/png": "[encoded data removed]",
      "text/plain": [
       "<Figure size 800x600 with 1 Axes>"
      ]
     },
     "metadata": {},
     "output_type": "display_data"
    }
   ],
   "source": [
    "import matplotlib.pyplot as plt\n",
    "import seaborn as sns\n",
    "from sklearn.metrics import confusion_matrix, roc_curve, roc_auc_score\n",
    "\n",
    "# Step 7: Create a confusion matrix\n",
    "conf_matrix = confusion_matrix(y_test, y_pred)\n",
    "\n",
    "# Plot confusion matrix\n",
    "plt.figure(figsize=(8, 6))\n",
    "sns.heatmap(conf_matrix, annot=True, fmt=\"d\", cmap=\"Blues\", cbar=False,\n",
    "            xticklabels=label_encoder.classes_, yticklabels=label_encoder.classes_)\n",
    "plt.xlabel('Predicted')\n",
    "plt.ylabel('Actual')\n",
    "plt.title('Confusion Matrix')\n",
    "plt.show()\n",
    "\n",
    "\n"
   ]
  },
  {
   "cell_type": "markdown",
   "id": "5c3d2196",
   "metadata": {},
   "source": [
    "<h1>Random Forest classifier</h1>\n"
   ]
  },
  {
   "cell_type": "markdown",
   "id": "307158a9",
   "metadata": {},
   "source": [
    "The Random Forest classifier utilized in this project is a versatile and robust ensemble learning algorithm that excels in classifying SMS messages as either \"ham\" or \"spam.\" By aggregating predictions from multiple decision trees, it leverages the wisdom of crowds to enhance accuracy and reduce the risk of overfitting. This classifier's strength lies in its ability to handle high-dimensional text data through TF-IDF vectorization, making it well-suited for natural language processing tasks. With its tunable hyperparameters, such as the number of trees (n_estimators) and tree depth (max_depth), it offers flexibility in achieving optimal performance. Through the visualizations of the confusion matrix and the Receiver Operating Characteristic (ROC) curve, we gain valuable insights into its classification performance and discriminatory power. The Random Forest classifier emerges as a reliable and effective tool for spam detection, contributing to the broader goal of ensuring the security and integrity of communication channels."
   ]
  },
  {
   "cell_type": "code",
   "execution_count": 6,
   "id": "c4ccecb8",
   "metadata": {
    "scrolled": true
   },
   "outputs": [],
   "source": [
    "# Import necessary libraries\n",
    "import pandas as pd\n",
    "from sklearn.feature_extraction.text import TfidfVectorizer\n",
    "from sklearn.model_selection import train_test_split\n",
    "from sklearn.preprocessing import LabelEncoder\n",
    "from sklearn.ensemble import RandomForestClassifier\n",
    "from sklearn.metrics import accuracy_score, classification_report\n"
   ]
  },
  {
   "cell_type": "code",
   "execution_count": 7,
   "id": "3fa860fe",
   "metadata": {},
   "outputs": [],
   "source": [
    "# Step 1: Load the dataset\n",
    "data = pd.read_csv('spam.csv', encoding='ISO-8859-1')\n",
    "\n",
    "# Step 2: Data Preprocessing\n",
    "# Encode labels using Label Encoding\n",
    "label_encoder = LabelEncoder()\n",
    "data['v1'] = label_encoder.fit_transform(data['v1'])\n"
   ]
  },
  {
   "cell_type": "code",
   "execution_count": 8,
   "id": "ba6331e5",
   "metadata": {
    "scrolled": true
   },
   "outputs": [
    {
     "name": "stdout",
     "output_type": "stream",
     "text": [
      "Accuracy: 0.9757847533632287\n",
      "Classification Report:\n",
      "              precision    recall  f1-score   support\n",
      "\n",
      "         ham       0.97      1.00      0.99       965\n",
      "        spam       1.00      0.82      0.90       150\n",
      "\n",
      "    accuracy                           0.98      1115\n",
      "   macro avg       0.99      0.91      0.94      1115\n",
      "weighted avg       0.98      0.98      0.97      1115\n",
      "\n"
     ]
    }
   ],
   "source": [
    "# TF-IDF Vectorization for text data\n",
    "tfidf_vectorizer = TfidfVectorizer(max_features=5000)  # You can adjust max_features as needed\n",
    "X = tfidf_vectorizer.fit_transform(data['v2'])\n",
    "\n",
    "# Step 3: Split data into training and testing sets\n",
    "X_train, X_test, y_train, y_test = train_test_split(X, data['v1'], test_size=0.2, random_state=42)\n",
    "\n",
    "# Step 4: Model Selection (Random Forest)\n",
    "model = RandomForestClassifier(n_estimators=100, random_state=42)  # You can adjust n_estimators and other hyperparameters\n",
    "\n",
    "# Step 5: Model Training\n",
    "model.fit(X_train, y_train)\n",
    "\n",
    "# Step 6: Model Evaluation\n",
    "y_pred = model.predict(X_test)\n",
    "\n",
    "# Calculate accuracy\n",
    "accuracy = accuracy_score(y_test, y_pred)\n",
    "print(\"Accuracy:\", accuracy)\n",
    "\n",
    "# Generate classification report\n",
    "class_report = classification_report(y_test, y_pred, target_names=[\"ham\", \"spam\"])\n",
    "print(\"Classification Report:\")\n",
    "print(class_report)"
   ]
  },
  {
   "cell_type": "markdown",
   "id": "d5ae7a6c",
   "metadata": {},
   "source": [
    "In the final stage of this project, we extended the capabilities of our trained Random Forest classifier to predict the nature of SMS messages for the remaining data beyond the initial 5000 rows. Leveraging the TF-IDF vectorization technique, we transformed the text data into a format suitable for machine learning prediction. Subsequently, the model was deployed to classify these additional messages as either \"ham\" or \"spam\" with high accuracy. By seamlessly integrating the predicted labels back into the original dataset, we obtained a comprehensive view of the classification outcomes, enabling us to assess the model's effectiveness in handling a larger dataset. This achievement underscores the practical utility of the Random Forest classifier in real-world applications, where it can automate the categorization of text messages and enhance communication security."
   ]
  },
  {
   "cell_type": "code",
   "execution_count": 9,
   "id": "69b1a19e",
   "metadata": {},
   "outputs": [
    {
     "name": "stdout",
     "output_type": "stream",
     "text": [
      "                                                  v2 Predicted\n",
      "0  Go until jurong point, crazy.. Available only ...          \n",
      "1                      Ok lar... Joking wif u oni...          \n",
      "2  Free entry in 2 a wkly comp to win FA Cup fina...          \n",
      "3  U dun say so early hor... U c already then say...          \n",
      "4  Nah I don't think he goes to usf, he lives aro...          \n"
     ]
    }
   ],
   "source": [
    "# Step 7: Predict labels for the remaining rows (after 5000)\n",
    "X_remaining = tfidf_vectorizer.transform(data['v2'][5000:])  # Transform text data for the remaining rows\n",
    "predicted_labels = model.predict(X_remaining)\n",
    "\n",
    "# Convert predicted labels back to \"ham\" and \"spam\"\n",
    "predicted_labels = label_encoder.inverse_transform(predicted_labels)\n",
    "\n",
    "# Add predicted labels to the DataFrame\n",
    "data['Predicted'] = [\"\"] * 5000 + list(predicted_labels)\n",
    "\n",
    "# Display the DataFrame with predicted labels\n",
    "print(data[['v2', 'Predicted']].head())  # Display the first few rows with predicted labels"
   ]
  },
  {
   "cell_type": "markdown",
   "id": "a96f65e6",
   "metadata": {},
   "source": [
    "In the visualization phase of our project, we employed two crucial tools to assess the performance of our Random Forest classifier: the Confusion Matrix and the Receiver Operating Characteristic (ROC) curve. The Confusion Matrix provides an insightful breakdown of the model's predictions, allowing us to analyze how well it distinguishes between \"ham\" and \"spam\" messages. With a heatmap visualization, it becomes evident where the model excels and where it may misclassify messages. On the other hand, the ROC curve illustrates the classifier's ability to distinguish between the two classes by plotting the trade-off between true positive and false positive rates at different probability thresholds. A higher area under the ROC curve indicates superior model performance. These visualizations provide invaluable insights into the model's strengths and areas for potential improvement, facilitating informed decision-making in text message classification tasks."
   ]
  },
  {
   "cell_type": "code",
   "execution_count": 10,
   "id": "a0856438",
   "metadata": {},
   "outputs": [
    {
     "data": {
      "image/png": "[encoded data removed]",
      "text/plain": [
       "<Figure size 800x600 with 1 Axes>"
      ]
     },
     "metadata": {},
     "output_type": "display_data"
    }
   ],
   "source": [
    "import matplotlib.pyplot as plt\n",
    "import seaborn as sns\n",
    "from sklearn.metrics import confusion_matrix, roc_curve, roc_auc_score\n",
    "\n",
    "\n",
    "# Step 8: Create an ROC curve\n",
    "y_pred_proba = model.predict_proba(X_test)[:, 1]  # Probability of being spam class\n",
    "fpr, tpr, thresholds = roc_curve(y_test, y_pred_proba)\n",
    "\n",
    "# Calculate ROC AUC score\n",
    "roc_auc = roc_auc_score(y_test, y_pred_proba)\n",
    "\n",
    "# Plot ROC curve\n",
    "plt.figure(figsize=(8, 6))\n",
    "plt.plot(fpr, tpr, color='darkorange', lw=2, label=f'ROC curve (area = {roc_auc:.2f})')\n",
    "plt.plot([0, 1], [0, 1], color='navy', lw=2, linestyle='--')\n",
    "plt.xlim([0.0, 1.0])\n",
    "plt.ylim([0.0, 1.05])\n",
    "plt.xlabel('False Positive Rate')\n",
    "plt.ylabel('True Positive Rate')\n",
    "plt.title('Receiver Operating Characteristic (ROC)')\n",
    "plt.legend(loc='lower right')\n",
    "plt.show()\n"
   ]
  },
  {
   "cell_type": "markdown",
   "id": "0d54c762",
   "metadata": {},
   "source": [
    "## conclusion:\n",
    "\n",
    "The implementation of the Random Forest classifier in our text message classification project has yielded outstanding results, achieving an impressive accuracy rate of 97 percent. This high level of accuracy signifies the model's proficiency in distinguishing between \"ham\" and \"spam\" messages, making it a robust solution for spam detection. The utilization of TF-IDF vectorization and extensive hyperparameter tuning has contributed to the classifier's exceptional performance. With a well-balanced blend of precision and recall, the Random Forest model has showcased its capability to effectively classify text messages, thereby enhancing communication and minimizing unwanted spam. This project underscores the significance of employing advanced machine learning techniques for text classification tasks, where accuracy and efficiency are paramount in ensuring the reliability of communication channels."
   ]
  },
  {
   "cell_type": "code",
   "execution_count": null,
   "id": "5ef2d9df",
   "metadata": {},
   "outputs": [],
   "source": []
  }
 ],
 "metadata": {
  "kernelspec": {
   "display_name": "Python 3 (ipykernel)",
   "language": "python",
   "name": "python3"
  },
  "language_info": {
   "codemirror_mode": {
    "name": "ipython",
    "version": 3
   },
   "file_extension": ".py",
   "mimetype": "text/x-python",
   "name": "python",
   "nbconvert_exporter": "python",
   "pygments_lexer": "ipython3",
   "version": "3.11.4"
  }
 },
 "nbformat": 4,
 "nbformat_minor": 5
}
